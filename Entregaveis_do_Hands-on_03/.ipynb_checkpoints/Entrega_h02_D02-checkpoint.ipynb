{
 "cells": [
  {
   "cell_type": "markdown",
   "metadata": {},
   "source": [
    "## D02: Passo 2 da Prática 03: Abrindo e reproduzindo arquivos de música"
   ]
  },
  {
   "cell_type": "markdown",
   "metadata": {},
   "source": [
    "A) - Incluindo a linha de comando \"vtSom = [vtSom; vtSom];\" em vez de \"vtSom = 4*vtSom;\" a duração do aúdio foi dobrada e a nota foi tocada duas vezes seguida, vide gráfico abaixo. Isso se deu pelo fato do vetor vtSom ser concatenado com ele mesmo, fazendo com que ele tenha agora o dobro do número de elementos.\n",
    "\n",
    "![D02_a](https://raw.githubusercontent.com/willalvesufrn/william_DCO2004/master/Entregaveis_do_Hands-on_02/D02_a.png)\n",
    "\n",
    "B) Fazendo as modificações pedidas no código, foi percebido que o aúdio reproduzido foi o mesmo do passo anterior. Nesse passo o vtSom foi mais uma vez concatenado com ele mesmo, havendo somente uma modificação de dimenção e o comando audioplayer interpretou isso como um aúdio de dois canais de reprodução simultanea, isso é notado com o plot em que o canal \"laranja\" ficou sobreposto ao o canal \"azul\".\n",
    "\n",
    "![D02_b](https://raw.githubusercontent.com/willalvesufrn/william_DCO2004/master/Entregaveis_do_Hands-on_02/D02_b.png)\n",
    "\n",
    "C) Fazendo as modificações pedidas no código, os sinais foram reproduzidos e plotado. Nesse caso o segundo sinal foi investido começando com valores baixo de amplitude e aumentando gradativamente, causando um efeito (com fone de ouvido) de inversao de percepção do som, ou seja, o som começa no fone da esquerda com intensidade máxima e vai baixando o volume a cerca que o som começa a ser percebido no fone da direita, e vai aumentando de volume, até finalizar. \n",
    "\n",
    "![D02_c](https://raw.githubusercontent.com/willalvesufrn/william_DCO2004/master/Entregaveis_do_Hands-on_02/D02_c.png)"
   ]
  },
  {
   "cell_type": "code",
   "execution_count": null,
   "metadata": {
    "collapsed": true
   },
   "outputs": [],
   "source": []
  }
 ],
 "metadata": {
  "kernelspec": {
   "display_name": "Python 3",
   "language": "python",
   "name": "python3"
  },
  "language_info": {
   "codemirror_mode": {
    "name": "ipython",
    "version": 3
   },
   "file_extension": ".py",
   "mimetype": "text/x-python",
   "name": "python",
   "nbconvert_exporter": "python",
   "pygments_lexer": "ipython3",
   "version": "3.4.5"
  }
 },
 "nbformat": 4,
 "nbformat_minor": 2
}

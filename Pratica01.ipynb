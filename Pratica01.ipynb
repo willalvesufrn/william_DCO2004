{
 "cells": [
  {
   "cell_type": "markdown",
   "metadata": {},
   "source": [
    "# Exercício da prática 1"
   ]
  },
  {
   "cell_type": "markdown",
   "metadata": {},
   "source": [
    "**O Processo de modulação explora os três parâmetros da senoide portadora:** <br> _Amplitude, Frequência e Fase_ <br>\n",
    "Leia mais sobre modulação [aqui](https://pt.wikipedia.org/wiki/Modula%C3%A7%C3%A3o_em_amplitude)\n",
    "![fig_figura](https://upload.wikimedia.org/wikipedia/commons/thumb/d/d5/Amplitude-modulation.png/250px-Amplitude-modulation.png)"
   ]
  },
  {
   "cell_type": "code",
   "execution_count": 1,
   "metadata": {},
   "outputs": [
    {
     "name": "stdout",
     "output_type": "stream",
     "text": [
      "Escolha a primeira variável5\n",
      "Escolha a segunda variável6\n",
      "A soma das variáveis é: 11\n"
     ]
    }
   ],
   "source": [
    "a = int(input(\"Escolha a primeira variável\"))\n",
    "b = int(input(\"Escolha a segunda variável\"))\n",
    "print(\"A soma das variáveis é:\", a+b)"
   ]
  },
  {
   "cell_type": "raw",
   "metadata": {},
   "source": [
    "Espero que tenham praticado o básico sobre o Jupyter Notebook."
   ]
  }
 ],
 "metadata": {
  "kernelspec": {
   "display_name": "Python 3",
   "language": "python",
   "name": "python3"
  },
  "language_info": {
   "codemirror_mode": {
    "name": "ipython",
    "version": 3
   },
   "file_extension": ".py",
   "mimetype": "text/x-python",
   "name": "python",
   "nbconvert_exporter": "python",
   "pygments_lexer": "ipython3",
   "version": "3.4.5"
  }
 },
 "nbformat": 4,
 "nbformat_minor": 2
}

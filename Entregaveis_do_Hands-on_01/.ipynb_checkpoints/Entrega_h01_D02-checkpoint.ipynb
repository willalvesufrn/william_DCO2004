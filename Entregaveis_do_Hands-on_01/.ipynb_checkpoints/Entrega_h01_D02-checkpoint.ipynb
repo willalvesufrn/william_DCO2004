{
 "cells": [
  {
   "cell_type": "markdown",
   "metadata": {},
   "source": [
    "# D02: Passo 03 da Prática 02: Ambiente de depuração (debug)."
   ]
  },
  {
   "cell_type": "markdown",
   "metadata": {},
   "source": [
    "![FIGURA 01](https://raw.githubusercontent.com/willalvesufrn/william_DCO2004/master/Entregaveis_do_Hands-on_01/foto_3.png)"
   ]
  },
  {
   "cell_type": "markdown",
   "metadata": {
    "collapsed": true
   },
   "source": [
    "Quando foi executado o comando \"whos\" foi mostrado todas os detalhes das variáveis. Nesse caso temos:\n",
    "- Duas variáveis da classe char, que é um vetor de dimenção 1x23, ambas ocupando um espaço de 46 Bytes.\n",
    "- Quatro variáveis da classe Double, uma delas é um vetor de dimenção 1x1, ocupando um espaço de 8 Bytes e o restante das variáveis são compostas por um vetor de dimenção 1x10, ocupando um espaço de 80 Bytes."
   ]
  },
  {
   "cell_type": "code",
   "execution_count": null,
   "metadata": {
    "collapsed": true
   },
   "outputs": [],
   "source": []
  }
 ],
 "metadata": {
  "kernelspec": {
   "display_name": "Matlab",
   "language": "matlab",
   "name": "matlab"
  },
  "language_info": {
   "codemirror_mode": "octave",
   "file_extension": ".m",
   "help_links": [
    {
     "text": "MetaKernel Magics",
     "url": "https://github.com/calysto/metakernel/blob/master/metakernel/magics/README.md"
    }
   ],
   "mimetype": "text/x-matlab",
   "name": "matlab",
   "version": "0.14.3"
  }
 },
 "nbformat": 4,
 "nbformat_minor": 2
}

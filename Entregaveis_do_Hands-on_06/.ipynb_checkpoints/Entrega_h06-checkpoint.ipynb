{
 "cells": [
  {
   "cell_type": "markdown",
   "metadata": {},
   "source": [
    "# Entregável Hands-On 06 - William Soares\n",
    "\n",
    "## Transição analógico/digital (amostragem, reconstrução ideal, quantização, codificação PCM e multiplexação TDM)\n",
    "\n",
    "## 1) Passos 1 e 2 da Prática 2\n",
    "\n",
    "Reconstrução ideal do sinal amostrado. Comite o arquivo Entrega_h06.ipynb com os códigos rodados (Matlab e Python) e com os gráficos aparecendo e os comentários realizados. Se precisar repita trechos inteiros de código para que o documento fique autocontido. As figuras devem ser resultado da execução do código e não figuras inseridas em formato png ou jpg.\n"
   ]
  }
 ],
 "metadata": {
  "kernelspec": {
   "display_name": "Matlab",
   "language": "matlab",
   "name": "matlab"
  },
  "language_info": {
   "codemirror_mode": "octave",
   "file_extension": ".m",
   "help_links": [
    {
     "text": "MetaKernel Magics",
     "url": "https://github.com/calysto/metakernel/blob/master/metakernel/magics/README.md"
    }
   ],
   "mimetype": "text/x-matlab",
   "name": "matlab",
   "version": "0.14.3"
  }
 },
 "nbformat": 4,
 "nbformat_minor": 2
}

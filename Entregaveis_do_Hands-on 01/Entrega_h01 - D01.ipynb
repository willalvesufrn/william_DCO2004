{
 "cells": [
  {
   "cell_type": "markdown",
   "metadata": {},
   "source": [
    "# D01 - Discussão do Passo 08 da Prática 01: Ambiente de edição".
   ]
  },
  {
   "cell_type": "markdown",
   "metadata": {},
   "source": [
    "Os tipos de variáveis no matlanb são: Double, Single, Int, Uint, Char, String.\n",
    "\n",
    "Abaixo, consta a descrição de cada uma delas.\n",
    "\n",
    "**Double:** É o tipo mais comum de variável no Matlab, logo é utilizado como padão. Representa\n",
    "números reais e são construídos com 64 bits (o mais significativo é reservado para o sinal, os\n",
    "dez seguintes para o expoente e o restante para a fração f do número 1). Como veremos\n",
    "adiante ele ocupa 8 bytes.\n",
    "\n",
    "**Single:** Também serve para representar números reais, mas utiliza apenas 32 bits, ou seja,\n",
    "ocupa metade do espaço de memória de uma variável Double, no entanto os números\n",
    "representados por essa variável, tem uma precisão menor, quando comparado com a precisão\n",
    "da variável Double."
   ]
  },
  {
   "cell_type": "code",
   "execution_count": 4,
   "metadata": {},
   "outputs": [
    {
     "name": "stdout",
     "output_type": "stream",
     "text": [
      "Tipo double e tipo single\n",
      "\n",
      "a =\n",
      "\n",
      "        7654\n",
      "\n",
      "\n",
      "b =\n",
      "\n",
      "        7654\n",
      "\n",
      "  Name      Size            Bytes  Class     Attributes\n",
      "\n",
      "  a         1x1                 8  double              \n",
      "  b         1x1                 4  single              \n",
      "\n"
     ]
    }
   ],
   "source": [
    "% Double e Single.\n",
    "\n",
    "clc\n",
    "clear\n",
    "disp('Tipo double e tipo single')\n",
    "a=7654 % Como Double é o tipo padrão do matlab, não preciso menciona-la antes do número.\n",
    "b=single(7654)\n",
    "whos"
   ]
  },
  {
   "cell_type": "markdown",
   "metadata": {},
   "source": [
    "**Int e Uint:** Essas duas variáveis servem para representar inteiros. O Int serve para representar\n",
    "números negativos e positivos, já o Unit somente o número 0 e números positivos, mas com\n",
    "ele pode-se representar valores maiores com o mesmo número de bits."
   ]
  },
  {
   "cell_type": "code",
   "execution_count": 5,
   "metadata": {},
   "outputs": [
    {
     "name": "stdout",
     "output_type": "stream",
     "text": [
      "Tipo int e tipo uint\n",
      "\n",
      "a =\n",
      "\n",
      "  127\n",
      "\n",
      "\n",
      "b =\n",
      "\n",
      "  255\n",
      "\n",
      "\n",
      "c =\n",
      "\n",
      " -32768\n",
      "\n",
      "\n",
      "d =\n",
      "\n",
      "  65535\n",
      "\n",
      "\n",
      "e =\n",
      "\n",
      "      0\n",
      "\n",
      "\n",
      "f =\n",
      "\n",
      "  -70\n",
      "\n",
      "  Name      Size            Bytes  Class     Attributes\n",
      "\n",
      "  a         1x1                 1  int8                \n",
      "  b         1x1                 1  uint8               \n",
      "  c         1x1                 2  int16               \n",
      "  d         1x1                 2  uint16              \n",
      "  e         1x1                 2  uint16              \n",
      "  f         1x1                 1  int8                \n",
      "\n"
     ]
    }
   ],
   "source": [
    "% Int e Uint.\n",
    "clc\n",
    "clear\n",
    "disp('Tipo int e tipo uint')\n",
    "\n",
    "a=int8(255)\n",
    "b=uint8(255)\n",
    "c=int16(-100000)\n",
    "d=uint16(500000)\n",
    "e=uint16(-70)\n",
    "f=int8(-70)\n",
    "whos"
   ]
  },
  {
   "cell_type": "markdown",
   "metadata": {},
   "source": [
    "**Char e String:** Ambas servem para guardar dados de texto.\n",
    "\n",
    "**Char:** Um vetor de char é uma sequência de caracteres, ou seja, um vetor de char com “n”\n",
    "caracteres será uma variável de 1xn, ocupando um espaço de memória de 8 bytes por\n",
    "cada caractere.\n",
    "\n",
    "**String:** Serve como um container para dados de texto, ela é uma variável de dimensões\n",
    "1x1 e ocupa mais espaço de memória para o mesmo texto que um vetor char, devido à um\n",
    "cabeçalho que o mesmo possui."
   ]
  },
  {
   "cell_type": "code",
   "execution_count": 9,
   "metadata": {},
   "outputs": [
    {
     "name": "stdout",
     "output_type": "stream",
     "text": [
      "Tipo char e tipo string\n",
      "\n",
      "a =\n",
      "\n",
      "William Soares\n",
      "\n",
      "\n",
      "a =\n",
      "\n",
      "William Soares\n",
      "\n",
      "\n",
      "a =\n",
      "\n",
      "William Soares!\n",
      "\n",
      "Warning: string is obsolete and will be discontinued.  Use char instead.\n",
      "\n",
      "b =\n",
      "\n",
      "William Soares\n",
      "\n",
      "Warning: string is obsolete and will be discontinued.  Use char instead.\n",
      "\n",
      "c =\n",
      "\n",
      "!\n",
      "\n",
      "\n",
      "ans =\n",
      "\n",
      "William Soares!\n",
      "\n",
      "  Name      Size            Bytes  Class    Attributes\n",
      "\n",
      "  a         1x15               30  char               \n",
      "  ans       1x15               30  char               \n",
      "  b         1x14               28  char               \n",
      "  c         1x1                 2  char               \n",
      "\n"
     ]
    }
   ],
   "source": [
    "%% Char e string\n",
    "clc\n",
    "clear\n",
    "disp('Tipo char e tipo string')\n",
    "\n",
    "a=('William Soares')\n",
    "a(1:7)='William'\n",
    "a=[a '!']\n",
    "\n",
    "b=string('William Soares')\n",
    "c=string('!')\n",
    "strcat(b,c)\n",
    "\n",
    "whos"
   ]
  }
 ],
 "metadata": {
  "kernelspec": {
   "display_name": "Matlab",
   "language": "matlab",
   "name": "matlab"
  },
  "language_info": {
   "codemirror_mode": "octave",
   "file_extension": ".m",
   "help_links": [
    {
     "text": "MetaKernel Magics",
     "url": "https://github.com/calysto/metakernel/blob/master/metakernel/magics/README.md"
    }
   ],
   "mimetype": "text/x-matlab",
   "name": "matlab",
   "version": "0.14.3"
  }
 },
 "nbformat": 4,
 "nbformat_minor": 2
}

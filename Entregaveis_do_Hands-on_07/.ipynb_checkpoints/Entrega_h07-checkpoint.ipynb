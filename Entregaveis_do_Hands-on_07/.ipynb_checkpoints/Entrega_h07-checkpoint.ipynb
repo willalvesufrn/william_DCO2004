{
 "cells": [
  {
   "cell_type": "markdown",
   "metadata": {},
   "source": [
    "# Entregável Hands-On 06 - William Soares\n",
    "\n",
    "\n",
    "## 1) Passos 2 e 3 da Prática 1 (PDFs e CDFs de VAs clássicas)\n",
    "\n",
    "## Descrição:\n",
    "Comite o arquivo Entrega_h07.ipynb com os códigos rodados (Matlab e Python) e com os gráficos aparecendo e os comentários realizados. Se precisar repita trechos inteiros de código para que o documento fique autocontido. As figuras devem ser resultado da execução do código e não figuras inseridas em formato png ou jpg. Esse item tem três subitens. Cuidado com isso!\n",
    "\n",
    "## Passo 2:\n",
    "\n",
    "Faça os gráficos acima para todas as seguintes distribuições contínuas: Lognormal, Rayleigh, Rice, Nakagami, Weibull, Exponencial. Disserte sobre o significado de cada parâmetro da distribuição e evidencie o comportamento da PDF e da CDF em gráficos. Se tiver dúvida quanto ao formato da PDF e CDF, procure e referencie material que as tenham.\n"
   ]
  }
 ],
 "metadata": {
  "kernelspec": {
   "display_name": "Matlab",
   "language": "matlab",
   "name": "matlab"
  },
  "language_info": {
   "codemirror_mode": "octave",
   "file_extension": ".m",
   "help_links": [
    {
     "text": "MetaKernel Magics",
     "url": "https://github.com/calysto/metakernel/blob/master/metakernel/magics/README.md"
    }
   ],
   "mimetype": "text/x-matlab",
   "name": "matlab",
   "version": "0.14.3"
  }
 },
 "nbformat": 4,
 "nbformat_minor": 2
}
